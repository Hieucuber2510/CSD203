{
 "cells": [
  {
   "cell_type": "code",
   "execution_count": 1,
   "id": "8b1cf6bb",
   "metadata": {},
   "outputs": [],
   "source": [
    "import random"
   ]
  },
  {
   "cell_type": "code",
   "execution_count": 2,
   "id": "d6649786",
   "metadata": {},
   "outputs": [],
   "source": [
    "total_flips = 0\n",
    "num_tails = 0\n",
    "num_heads = 0\n",
    "\n",
    "for _ in range(1000):\n",
    "    n = random.random()\n",
    "    if n < 0.5:\n",
    "        num_tails += 1\n",
    "    else:\n",
    "        num_heads += 1\n",
    "        \n",
    "    total_flips += 1"
   ]
  },
  {
   "cell_type": "code",
   "execution_count": 3,
   "id": "c96fe21e",
   "metadata": {},
   "outputs": [
    {
     "name": "stdout",
     "output_type": "stream",
     "text": [
      "Đồng xu ra mặt sấp 520 lần\n",
      "Đồng xu ra mặt ngửa 480 lần\n"
     ]
    }
   ],
   "source": [
    "print(f\"Đồng xu ra mặt sấp {num_tails} lần\")\n",
    "print(f\"Đồng xu ra mặt ngửa {num_heads} lần\")"
   ]
  },
  {
   "cell_type": "code",
   "execution_count": null,
   "id": "ff8f09c3",
   "metadata": {},
   "outputs": [],
   "source": []
  }
 ],
 "metadata": {
  "kernelspec": {
   "display_name": "Python 3 (ipykernel)",
   "language": "python",
   "name": "python3"
  },
  "language_info": {
   "codemirror_mode": {
    "name": "ipython",
    "version": 3
   },
   "file_extension": ".py",
   "mimetype": "text/x-python",
   "name": "python",
   "nbconvert_exporter": "python",
   "pygments_lexer": "ipython3",
   "version": "3.11.5"
  }
 },
 "nbformat": 4,
 "nbformat_minor": 5
}
